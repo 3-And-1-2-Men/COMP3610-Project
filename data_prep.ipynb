{
 "cells": [
  {
   "cell_type": "code",
   "execution_count": 54,
   "metadata": {},
   "outputs": [],
   "source": [
    "import pandas as pd\n",
    "import requests\n",
    "import time\n",
    "\n",
    "from os import path\n",
    "from random import randint\n",
    "from timeit import default_timer as timer"
   ]
  },
  {
   "cell_type": "code",
   "execution_count": 55,
   "metadata": {},
   "outputs": [
    {
     "name": "stdout",
     "output_type": "stream",
     "text": [
      "API Response Status: 200 \n",
      "Token: BQAukuJ9EIeTnfwpjrAopfJh78LwYrMkdqaPKBWFzQ1PSeJ7zNZIQq-Iv_Ik_3yPAGblXJYLcz2Y7YkQGcrEcAxJpUb5sW7VWO5MRX5Sf29Mal-YC9s\n"
     ]
    }
   ],
   "source": [
    "auth_url = \"https://accounts.spotify.com/api/token\"\n",
    "response = requests.post(auth_url, {\n",
    "    \"grant_type\": \"client_credentials\",\n",
    "    \"client_id\": \"\",\n",
    "    \"client_secret\": \"\"\n",
    "})\n",
    "api_token = response.json()['access_token']\n",
    "print(\"API Response Status:\", response.status_code, \"\\nToken:\", api_token)"
   ]
  },
  {
   "cell_type": "code",
   "execution_count": 56,
   "metadata": {},
   "outputs": [],
   "source": [
    "folder_path = path.expanduser(\"~\") + path.sep + path.sep.join([\"Onedrive\", \"Desktop\", \"COMP3610 Big Data Project Research\", \"data\"])\n",
    "data = pd.read_csv(folder_path + path.sep + \"spotify_master.csv\")"
   ]
  },
  {
   "cell_type": "code",
   "execution_count": 57,
   "metadata": {},
   "outputs": [
    {
     "name": "stdout",
     "output_type": "stream",
     "text": [
      "<class 'pandas.core.frame.DataFrame'>\n",
      "RangeIndex: 1204025 entries, 0 to 1204024\n",
      "Data columns (total 5 columns):\n",
      " #   Column  Non-Null Count    Dtype  \n",
      "---  ------  --------------    -----  \n",
      " 0   id      1204025 non-null  object \n",
      " 1   name    1204022 non-null  object \n",
      " 2   energy  1204025 non-null  float64\n",
      " 3   key     1204025 non-null  int64  \n",
      " 4   tempo   1204025 non-null  float64\n",
      "dtypes: float64(2), int64(1), object(2)\n",
      "memory usage: 45.9+ MB\n"
     ]
    }
   ],
   "source": [
    "data.info()"
   ]
  },
  {
   "cell_type": "code",
   "execution_count": 58,
   "metadata": {},
   "outputs": [
    {
     "name": "stdout",
     "output_type": "stream",
     "text": [
      "Start: 602011\n",
      "End: 1204025\n",
      "Data Dump File: 'C:\\Users\\kesha\\Onedrive\\Desktop\\COMP3610 Big Data Project Research\\data\\spotfiy_tracks_timbre.csv'\n"
     ]
    }
   ],
   "source": [
    "url = \"https://api.spotify.com/v1/audio-features/\"\n",
    "headers = {\n",
    "    \"Authorization\": f\"Bearer {api_token}\"\n",
    "}\n",
    "\n",
    "end, start = len(data), int(len(data)/2) - 1\n",
    "num_404, num_ok = 0, 0\n",
    "new_data_filename = folder_path + path.sep + f\"spotfiy_tracks_timbre.csv\"\n",
    "file_header = \"id,status,timbre\"\n",
    "with open(new_data_filename, \"w\", encoding=\"utf-8\") as f: f.write(file_header)\n",
    "\n",
    "# Stats\n",
    "print(f\"Start: {start}\")\n",
    "print(f\"End: {end}\")\n",
    "print(f\"Data Dump File: '{new_data_filename}'\")"
   ]
  },
  {
   "cell_type": "code",
   "execution_count": 59,
   "metadata": {},
   "outputs": [
    {
     "name": "stdout",
     "output_type": "stream",
     "text": [
      "Fast track: 602011\n"
     ]
    },
    {
     "data": {
      "text/plain": [
       "id        2i4uvlb57bBUgj0WJXXLkl\n",
       "name              For Us (Outro)\n",
       "energy                     0.544\n",
       "key                            8\n",
       "tempo                    139.861\n",
       "Name: 602011, dtype: object"
      ]
     },
     "execution_count": 59,
     "metadata": {},
     "output_type": "execute_result"
    }
   ],
   "source": [
    "# Find last row in file\n",
    "def get_resume_idx(start = 0):\n",
    "    start, last_line = start, None\n",
    "    with open(new_data_filename, \"r\", encoding=\"utf-8\") as f:\n",
    "        last_line = f.readlines()[-1]\n",
    "        \n",
    "    if last_line != file_header:\n",
    "        id = last_line.split(\",\")[0]\n",
    "        start = data[data[\"id\"] == id].index[0] + 1\n",
    "    \n",
    "    return start\n",
    "\n",
    "print(f\"Fast track: {get_resume_idx(start)}\")\n",
    "data.iloc[get_resume_idx(start)]"
   ]
  },
  {
   "cell_type": "code",
   "execution_count": 60,
   "metadata": {},
   "outputs": [],
   "source": [
    "def format_time(x: float) -> str:\n",
    "    return time.strftime(\"%H:%M:%S\", time.gmtime(x))\n",
    "\n",
    "def log_msg(idx, end, elapsed, response, num_ok, num_404, cooldown = None):\n",
    "    print(f\"\\r[{idx + 1}/{end}] Elapsed: {format_time(elapsed)} | Status: {response.status_code} | OK: {num_ok} | 404: {num_404} {' | COOLDOWN: ' + format_time(cooldown) if cooldown else ''}\" + \" \" * 9, end=\"\")"
   ]
  },
  {
   "cell_type": "code",
   "execution_count": 62,
   "metadata": {},
   "outputs": [
    {
     "name": "stdout",
     "output_type": "stream",
     "text": [
      "[602012/1204025] Elapsed: 00:01:17 | Status: 429 | OK: 0 | 404: 0  | COOLDOWN: 02:56:47         "
     ]
    },
    {
     "ename": "KeyboardInterrupt",
     "evalue": "",
     "output_type": "error",
     "traceback": [
      "\u001b[1;31m---------------------------------------------------------------------------\u001b[0m",
      "\u001b[1;31mKeyboardInterrupt\u001b[0m                         Traceback (most recent call last)",
      "Cell \u001b[1;32mIn[62], line 17\u001b[0m\n\u001b[0;32m     15\u001b[0m \u001b[38;5;28;01mwhile\u001b[39;00m cooldown \u001b[38;5;241m>\u001b[39m \u001b[38;5;241m0\u001b[39m:\n\u001b[0;32m     16\u001b[0m     log_msg(idx, end, elapsed, response, num_ok, num_404, cooldown)\n\u001b[1;32m---> 17\u001b[0m     \u001b[43mtime\u001b[49m\u001b[38;5;241;43m.\u001b[39;49m\u001b[43msleep\u001b[49m\u001b[43m(\u001b[49m\u001b[38;5;241;43m1\u001b[39;49m\u001b[43m)\u001b[49m\n\u001b[0;32m     18\u001b[0m     cooldown, elapsed \u001b[38;5;241m=\u001b[39m cooldown \u001b[38;5;241m-\u001b[39m \u001b[38;5;241m1\u001b[39m, time\u001b[38;5;241m.\u001b[39mtime() \u001b[38;5;241m-\u001b[39m _timer\n\u001b[0;32m     20\u001b[0m \u001b[38;5;28;01mcontinue\u001b[39;00m \u001b[38;5;66;03m# Retry from last row\u001b[39;00m\n",
      "\u001b[1;31mKeyboardInterrupt\u001b[0m: "
     ]
    }
   ],
   "source": [
    "_timer = time.time()\n",
    "idx = get_resume_idx(start)\n",
    "\n",
    "while idx < end:\n",
    "    response = requests.get(f\"{url}{data.iloc[idx]['id']}\", headers=headers)\n",
    "    num_404 += 1 if response.status_code == 404 else 0\n",
    "    num_ok  += 1 if response.status_code == 200 else 0\n",
    "    elapsed  = time.time() - _timer\n",
    "    log_msg(idx, end, elapsed, response, num_ok, num_404)\n",
    "    \n",
    "    # Generate random cooldown time (2 - 3 hours) in seconds\n",
    "    if response.status_code == 429:\n",
    "        hour_secs = 60 * 60\n",
    "        cooldown = randint(2 * hour_secs, 3 * hour_secs)\n",
    "        while cooldown > 0:\n",
    "            log_msg(idx, end, elapsed, response, num_ok, num_404, cooldown)\n",
    "            time.sleep(1)\n",
    "            cooldown, elapsed = cooldown - 1, time.time() - _timer\n",
    "            \n",
    "        continue # Retry from last row\n",
    "    \n",
    "    # Get data and write to file\n",
    "    id, status = data[\"id\"].iloc[idx], response.status_code\n",
    "    timbre = response.json()[\"segments\"][0][\"pitches\"] if response.status_code == 200 else 0\n",
    "    with open(new_data_filename, \"a\", encoding=\"utf-8\") as f: f.write(f\"\\n{id},{status},\\\"{timbre}\\\"\")\n",
    "    \n",
    "    # Generate random sleep time (2 - 5 secs)\n",
    "    time.sleep(randint(2, 5))\n",
    "    \n",
    "    idx += 1\n",
    "\n",
    "print(f\"Number of tracks that returned a 404 status: {num_404}\")"
   ]
  }
 ],
 "metadata": {
  "kernelspec": {
   "display_name": "Python 3",
   "language": "python",
   "name": "python3"
  },
  "language_info": {
   "codemirror_mode": {
    "name": "ipython",
    "version": 3
   },
   "file_extension": ".py",
   "mimetype": "text/x-python",
   "name": "python",
   "nbconvert_exporter": "python",
   "pygments_lexer": "ipython3",
   "version": "3.12.2"
  }
 },
 "nbformat": 4,
 "nbformat_minor": 2
}
